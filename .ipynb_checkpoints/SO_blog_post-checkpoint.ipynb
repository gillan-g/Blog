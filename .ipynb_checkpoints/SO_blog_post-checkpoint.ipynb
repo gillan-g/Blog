{
 "cells": [
  {
   "cell_type": "markdown",
   "id": "greatest-nature",
   "metadata": {},
   "source": [
    "# Blog post\n",
    "## Buisness questions:\n",
    "1. Explore proffesional coding experience and satisfaction level, are there any interesting trends?\n",
    "2. for survey participants coming from a non programming related degree, is there a relationship to the number/frequency of visits to stack overflow when compred to programming related backgrounds\n",
    "3. What are the biggest contributers affecting overtime working, is there a contributer that stands out and should be considered by employees? \n",
    "\n",
    "## Dataset use\n",
    "For this assignment i will be exploring the 2020 Stack Overflow Developer Survey results downloaded from:\n",
    "\n",
    "https://insights.stackoverflow.com/survey/2020"
   ]
  },
  {
   "cell_type": "code",
   "execution_count": 2,
   "id": "helpful-somewhere",
   "metadata": {},
   "outputs": [
    {
     "data": {
      "text/html": [
       "<div>\n",
       "<style scoped>\n",
       "    .dataframe tbody tr th:only-of-type {\n",
       "        vertical-align: middle;\n",
       "    }\n",
       "\n",
       "    .dataframe tbody tr th {\n",
       "        vertical-align: top;\n",
       "    }\n",
       "\n",
       "    .dataframe thead th {\n",
       "        text-align: right;\n",
       "    }\n",
       "</style>\n",
       "<table border=\"1\" class=\"dataframe\">\n",
       "  <thead>\n",
       "    <tr style=\"text-align: right;\">\n",
       "      <th></th>\n",
       "      <th>Respondent</th>\n",
       "      <th>MainBranch</th>\n",
       "      <th>Hobbyist</th>\n",
       "      <th>Age</th>\n",
       "      <th>Age1stCode</th>\n",
       "      <th>CompFreq</th>\n",
       "      <th>CompTotal</th>\n",
       "      <th>ConvertedComp</th>\n",
       "      <th>Country</th>\n",
       "      <th>CurrencyDesc</th>\n",
       "      <th>...</th>\n",
       "      <th>SurveyEase</th>\n",
       "      <th>SurveyLength</th>\n",
       "      <th>Trans</th>\n",
       "      <th>UndergradMajor</th>\n",
       "      <th>WebframeDesireNextYear</th>\n",
       "      <th>WebframeWorkedWith</th>\n",
       "      <th>WelcomeChange</th>\n",
       "      <th>WorkWeekHrs</th>\n",
       "      <th>YearsCode</th>\n",
       "      <th>YearsCodePro</th>\n",
       "    </tr>\n",
       "  </thead>\n",
       "  <tbody>\n",
       "    <tr>\n",
       "      <th>0</th>\n",
       "      <td>1</td>\n",
       "      <td>I am a developer by profession</td>\n",
       "      <td>Yes</td>\n",
       "      <td>NaN</td>\n",
       "      <td>13</td>\n",
       "      <td>Monthly</td>\n",
       "      <td>NaN</td>\n",
       "      <td>NaN</td>\n",
       "      <td>Germany</td>\n",
       "      <td>European Euro</td>\n",
       "      <td>...</td>\n",
       "      <td>Neither easy nor difficult</td>\n",
       "      <td>Appropriate in length</td>\n",
       "      <td>No</td>\n",
       "      <td>Computer science, computer engineering, or sof...</td>\n",
       "      <td>ASP.NET Core</td>\n",
       "      <td>ASP.NET;ASP.NET Core</td>\n",
       "      <td>Just as welcome now as I felt last year</td>\n",
       "      <td>50.0</td>\n",
       "      <td>36</td>\n",
       "      <td>27</td>\n",
       "    </tr>\n",
       "    <tr>\n",
       "      <th>1</th>\n",
       "      <td>2</td>\n",
       "      <td>I am a developer by profession</td>\n",
       "      <td>No</td>\n",
       "      <td>NaN</td>\n",
       "      <td>19</td>\n",
       "      <td>NaN</td>\n",
       "      <td>NaN</td>\n",
       "      <td>NaN</td>\n",
       "      <td>United Kingdom</td>\n",
       "      <td>Pound sterling</td>\n",
       "      <td>...</td>\n",
       "      <td>NaN</td>\n",
       "      <td>NaN</td>\n",
       "      <td>NaN</td>\n",
       "      <td>Computer science, computer engineering, or sof...</td>\n",
       "      <td>NaN</td>\n",
       "      <td>NaN</td>\n",
       "      <td>Somewhat more welcome now than last year</td>\n",
       "      <td>NaN</td>\n",
       "      <td>7</td>\n",
       "      <td>4</td>\n",
       "    </tr>\n",
       "    <tr>\n",
       "      <th>2</th>\n",
       "      <td>3</td>\n",
       "      <td>I code primarily as a hobby</td>\n",
       "      <td>Yes</td>\n",
       "      <td>NaN</td>\n",
       "      <td>15</td>\n",
       "      <td>NaN</td>\n",
       "      <td>NaN</td>\n",
       "      <td>NaN</td>\n",
       "      <td>Russian Federation</td>\n",
       "      <td>NaN</td>\n",
       "      <td>...</td>\n",
       "      <td>Neither easy nor difficult</td>\n",
       "      <td>Appropriate in length</td>\n",
       "      <td>NaN</td>\n",
       "      <td>NaN</td>\n",
       "      <td>NaN</td>\n",
       "      <td>NaN</td>\n",
       "      <td>Somewhat more welcome now than last year</td>\n",
       "      <td>NaN</td>\n",
       "      <td>4</td>\n",
       "      <td>NaN</td>\n",
       "    </tr>\n",
       "    <tr>\n",
       "      <th>3</th>\n",
       "      <td>4</td>\n",
       "      <td>I am a developer by profession</td>\n",
       "      <td>Yes</td>\n",
       "      <td>25.0</td>\n",
       "      <td>18</td>\n",
       "      <td>NaN</td>\n",
       "      <td>NaN</td>\n",
       "      <td>NaN</td>\n",
       "      <td>Albania</td>\n",
       "      <td>Albanian lek</td>\n",
       "      <td>...</td>\n",
       "      <td>NaN</td>\n",
       "      <td>NaN</td>\n",
       "      <td>No</td>\n",
       "      <td>Computer science, computer engineering, or sof...</td>\n",
       "      <td>NaN</td>\n",
       "      <td>NaN</td>\n",
       "      <td>Somewhat less welcome now than last year</td>\n",
       "      <td>40.0</td>\n",
       "      <td>7</td>\n",
       "      <td>4</td>\n",
       "    </tr>\n",
       "    <tr>\n",
       "      <th>4</th>\n",
       "      <td>5</td>\n",
       "      <td>I used to be a developer by profession, but no...</td>\n",
       "      <td>Yes</td>\n",
       "      <td>31.0</td>\n",
       "      <td>16</td>\n",
       "      <td>NaN</td>\n",
       "      <td>NaN</td>\n",
       "      <td>NaN</td>\n",
       "      <td>United States</td>\n",
       "      <td>NaN</td>\n",
       "      <td>...</td>\n",
       "      <td>Easy</td>\n",
       "      <td>Too short</td>\n",
       "      <td>No</td>\n",
       "      <td>Computer science, computer engineering, or sof...</td>\n",
       "      <td>Django;Ruby on Rails</td>\n",
       "      <td>Ruby on Rails</td>\n",
       "      <td>Just as welcome now as I felt last year</td>\n",
       "      <td>NaN</td>\n",
       "      <td>15</td>\n",
       "      <td>8</td>\n",
       "    </tr>\n",
       "  </tbody>\n",
       "</table>\n",
       "<p>5 rows × 61 columns</p>\n",
       "</div>"
      ],
      "text/plain": [
       "   Respondent                                         MainBranch Hobbyist  \\\n",
       "0           1                     I am a developer by profession      Yes   \n",
       "1           2                     I am a developer by profession       No   \n",
       "2           3                        I code primarily as a hobby      Yes   \n",
       "3           4                     I am a developer by profession      Yes   \n",
       "4           5  I used to be a developer by profession, but no...      Yes   \n",
       "\n",
       "    Age Age1stCode CompFreq  CompTotal  ConvertedComp             Country  \\\n",
       "0   NaN         13  Monthly        NaN            NaN             Germany   \n",
       "1   NaN         19      NaN        NaN            NaN      United Kingdom   \n",
       "2   NaN         15      NaN        NaN            NaN  Russian Federation   \n",
       "3  25.0         18      NaN        NaN            NaN             Albania   \n",
       "4  31.0         16      NaN        NaN            NaN       United States   \n",
       "\n",
       "     CurrencyDesc  ...                  SurveyEase           SurveyLength  \\\n",
       "0   European Euro  ...  Neither easy nor difficult  Appropriate in length   \n",
       "1  Pound sterling  ...                         NaN                    NaN   \n",
       "2             NaN  ...  Neither easy nor difficult  Appropriate in length   \n",
       "3    Albanian lek  ...                         NaN                    NaN   \n",
       "4             NaN  ...                        Easy              Too short   \n",
       "\n",
       "  Trans                                     UndergradMajor  \\\n",
       "0    No  Computer science, computer engineering, or sof...   \n",
       "1   NaN  Computer science, computer engineering, or sof...   \n",
       "2   NaN                                                NaN   \n",
       "3    No  Computer science, computer engineering, or sof...   \n",
       "4    No  Computer science, computer engineering, or sof...   \n",
       "\n",
       "  WebframeDesireNextYear    WebframeWorkedWith  \\\n",
       "0           ASP.NET Core  ASP.NET;ASP.NET Core   \n",
       "1                    NaN                   NaN   \n",
       "2                    NaN                   NaN   \n",
       "3                    NaN                   NaN   \n",
       "4   Django;Ruby on Rails         Ruby on Rails   \n",
       "\n",
       "                              WelcomeChange WorkWeekHrs YearsCode YearsCodePro  \n",
       "0   Just as welcome now as I felt last year        50.0        36           27  \n",
       "1  Somewhat more welcome now than last year         NaN         7            4  \n",
       "2  Somewhat more welcome now than last year         NaN         4          NaN  \n",
       "3  Somewhat less welcome now than last year        40.0         7            4  \n",
       "4   Just as welcome now as I felt last year         NaN        15            8  \n",
       "\n",
       "[5 rows x 61 columns]"
      ]
     },
     "execution_count": 2,
     "metadata": {},
     "output_type": "execute_result"
    }
   ],
   "source": [
    "#import all relevant libraries\n",
    "\n",
    "import pandas as pd\n",
    "import numpy as np\n",
    "import matplotlib.pyplot as plt\n",
    "import seaborn as sns\n",
    "%matplotlib inline\n",
    "\n",
    "df = pd.read_csv('./survey_results_public.csv')\n",
    "schema = pd.read_csv('./survey_results_schema.csv')\n",
    "df.head()"
   ]
  },
  {
   "cell_type": "markdown",
   "id": "sporting-stanley",
   "metadata": {},
   "source": [
    "## Question 1\n",
    "Explore proffesional coding experience and satisfaction level, are there any interesting trends?"
   ]
  },
  {
   "cell_type": "code",
   "execution_count": 3,
   "id": "acknowledged-thunder",
   "metadata": {},
   "outputs": [],
   "source": [
    "\n",
    "#Lets start by extracting relevant columns and removing any rows containing missing values\n",
    "q1_df = df[['JobSat','YearsCodePro']]\n",
    "q1_df = q1_df.dropna(how='any',axis=0)\n",
    "\n"
   ]
  },
  {
   "cell_type": "code",
   "execution_count": 4,
   "id": "thick-premises",
   "metadata": {},
   "outputs": [],
   "source": [
    "#lets look at coding experience column, investigate type and values we encounter \n",
    "q1_df['YearsCodePro'].dtypes\n",
    "q1_df['YearsCodePro'].value_counts()\n",
    "\n",
    "#we notice that there are 2 string values that won't convert well to int, lets replace them:\n",
    "# 'Less than 1 year' -- > 0.5\n",
    "# 'More than 50 years' --> 55\n",
    "\n",
    "q1_df.replace('Less than 1 year', '0.5', inplace=True)\n",
    "q1_df.replace('More than 50 years', '55', inplace=True)\n",
    "# q1_df[q1_df['YearsCodePro']=='Less than 1 year']='0.5'\n",
    "# q1_df[q1_df['YearsCodePro']=='More than 50 years']='55'\n",
    "\n",
    "#now lets convert to floats\n",
    "q1_df['YearsCodePro'] = q1_df['YearsCodePro'].astype(float)\n"
   ]
  },
  {
   "cell_type": "code",
   "execution_count": 5,
   "id": "outer-observer",
   "metadata": {},
   "outputs": [
    {
     "data": {
      "text/plain": [
       "<seaborn.axisgrid.FacetGrid at 0x23292da4548>"
      ]
     },
     "execution_count": 5,
     "metadata": {},
     "output_type": "execute_result"
    },
    {
     "data": {
      "image/png": "[encoded data removed]",
      "text/plain": [
       "<Figure size 360x360 with 1 Axes>"
      ]
     },
     "metadata": {
      "needs_background": "light"
     },
     "output_type": "display_data"
    }
   ],
   "source": [
    "#lets investigate how job experience in yers is distrbuted\n",
    "sns.displot(q1_df, x='YearsCodePro')"
   ]
  },
  {
   "cell_type": "markdown",
   "id": "determined-fishing",
   "metadata": {},
   "source": [
    "from the data we can observe the responders are mostly biased towards 0-10 years in the field, in a somewhat exponential distribution. this will make uderstanding the satisfaction level a bit tricky.. extracting the average or median will lean towards the majority of replies of this group and will not reflect well the satisfaction levels of more senior respondednt."
   ]
  },
  {
   "cell_type": "code",
   "execution_count": 6,
   "id": "finite-holiday",
   "metadata": {},
   "outputs": [
    {
     "data": {
      "text/plain": [
       "<seaborn.axisgrid.FacetGrid at 0x232939d6448>"
      ]
     },
     "execution_count": 6,
     "metadata": {},
     "output_type": "execute_result"
    },
    {
     "data": {
      "image/png": "[encoded data removed]",
      "text/plain": [
       "<Figure size 1800x360 with 5 Axes>"
      ]
     },
     "metadata": {
      "needs_background": "light"
     },
     "output_type": "display_data"
    }
   ],
   "source": [
    "#lets explore splitting the replies by satisfaction levels, as new insights might appear:\n",
    "sns.displot(q1_df, x=\"YearsCodePro\", col=\"JobSat\", multiple=\"dodge\", bins=10)"
   ]
  },
  {
   "cell_type": "markdown",
   "id": "regulation-malawi",
   "metadata": {},
   "source": [
    "As we can see, inspecting the hitograms of each group leans towards the 0-10 years bias. We will try our next approach, inspecting the relative portion of positive and negative and replies. The data is split into 3 groups: positive satisfaction, negative satisfaction and indifferent satisfaction for simplicity and robustness."
   ]
  },
  {
   "cell_type": "code",
   "execution_count": 7,
   "id": "attended-asbestos",
   "metadata": {},
   "outputs": [
    {
     "data": {
      "text/html": [
       "<div>\n",
       "<style scoped>\n",
       "    .dataframe tbody tr th:only-of-type {\n",
       "        vertical-align: middle;\n",
       "    }\n",
       "\n",
       "    .dataframe tbody tr th {\n",
       "        vertical-align: top;\n",
       "    }\n",
       "\n",
       "    .dataframe thead th {\n",
       "        text-align: right;\n",
       "    }\n",
       "</style>\n",
       "<table border=\"1\" class=\"dataframe\">\n",
       "  <thead>\n",
       "    <tr style=\"text-align: right;\">\n",
       "      <th></th>\n",
       "      <th>JobSat</th>\n",
       "      <th>YearsCodePro</th>\n",
       "      <th>sat</th>\n",
       "    </tr>\n",
       "  </thead>\n",
       "  <tbody>\n",
       "    <tr>\n",
       "      <th>0</th>\n",
       "      <td>Slightly satisfied</td>\n",
       "      <td>27.0</td>\n",
       "      <td>pos</td>\n",
       "    </tr>\n",
       "    <tr>\n",
       "      <th>1</th>\n",
       "      <td>Very dissatisfied</td>\n",
       "      <td>4.0</td>\n",
       "      <td>neg</td>\n",
       "    </tr>\n",
       "    <tr>\n",
       "      <th>3</th>\n",
       "      <td>Slightly dissatisfied</td>\n",
       "      <td>4.0</td>\n",
       "      <td>neg</td>\n",
       "    </tr>\n",
       "    <tr>\n",
       "      <th>5</th>\n",
       "      <td>Slightly satisfied</td>\n",
       "      <td>4.0</td>\n",
       "      <td>pos</td>\n",
       "    </tr>\n",
       "    <tr>\n",
       "      <th>6</th>\n",
       "      <td>Very satisfied</td>\n",
       "      <td>4.0</td>\n",
       "      <td>pos</td>\n",
       "    </tr>\n",
       "  </tbody>\n",
       "</table>\n",
       "</div>"
      ],
      "text/plain": [
       "                  JobSat  YearsCodePro  sat\n",
       "0     Slightly satisfied          27.0  pos\n",
       "1      Very dissatisfied           4.0  neg\n",
       "3  Slightly dissatisfied           4.0  neg\n",
       "5     Slightly satisfied           4.0  pos\n",
       "6         Very satisfied           4.0  pos"
      ]
     },
     "execution_count": 7,
     "metadata": {},
     "output_type": "execute_result"
    }
   ],
   "source": [
    "convert_sat ={'Neither satisfied nor dissatisfied':'ind',\n",
    " 'Slightly dissatisfied':'neg',\n",
    " 'Slightly satisfied':'pos',\n",
    " 'Very dissatisfied':'neg',\n",
    " 'Very satisfied':'pos'}\n",
    "\n",
    "def pos_ind_neg(row):\n",
    "    row['sat'] = convert_sat[row['JobSat']]\n",
    "    return row\n",
    "                \n",
    "                             \n",
    "q1_df = q1_df.apply(pos_ind_neg, axis=1)  \n",
    "q1_df.head()"
   ]
  },
  {
   "cell_type": "code",
   "execution_count": 8,
   "id": "entitled-professor",
   "metadata": {},
   "outputs": [
    {
     "data": {
      "image/png": "[encoded data removed]",
      "text/plain": [
       "<Figure size 576x396 with 1 Axes>"
      ]
     },
     "metadata": {},
     "output_type": "display_data"
    }
   ],
   "source": [
    "#now lets run on each expereince level group and calculate satisfaction level proportions\n",
    "years = []\n",
    "pos_ratio = []\n",
    "neg_ratio = []\n",
    "ind_ratio = []\n",
    "\n",
    "for group, frame in q1_df.groupby(by='YearsCodePro'):\n",
    "    pos_counts = frame[frame['sat'].eq('pos')].count()[0]\n",
    "    neg_counts = frame[frame['sat'].eq('neg')].count()[0]\n",
    "    ind_counts = frame[frame['sat'].eq('ind')].count()[0]\n",
    "    total = pos_counts + neg_counts + ind_counts\n",
    "    \n",
    "    years.append(group)\n",
    "    pos_ratio.append(pos_counts/total)\n",
    "    neg_ratio.append(neg_counts/total)\n",
    "    ind_ratio.append(ind_counts/total)\n",
    "    \n",
    " \n",
    "# Plot\n",
    "plt.style.use('seaborn')\n",
    "plt.plot(years,pos_ratio,years, ind_ratio, years, neg_ratio)\n",
    "plt.legend(['Positive','Indifferent', 'Negative'],loc='upper left')\n",
    "plt.xlabel('Experience Years')\n",
    "plt.ylabel('Satisfaction Proportio')\n",
    "plt.show()\n"
   ]
  },
  {
   "cell_type": "markdown",
   "id": "linear-expansion",
   "metadata": {},
   "source": [
    "# Question 2"
   ]
  },
  {
   "cell_type": "markdown",
   "id": "measured-satisfaction",
   "metadata": {},
   "source": [
    "For survey participants coming from a non programming related degree, is there a relationship to the number/frequency of visits to stack overflow when compred to programming related backgrounds"
   ]
  },
  {
   "cell_type": "code",
   "execution_count": 9,
   "id": "swiss-secretary",
   "metadata": {},
   "outputs": [
    {
     "data": {
      "text/plain": [
       "Computer science, computer engineering, or software engineering                   31582\n",
       "Another engineering discipline (such as civil, electrical, mechanical, etc.)       4754\n",
       "Information systems, information technology, or system administration              4071\n",
       "A natural science (such as biology, chemistry, physics, etc.)                      2205\n",
       "Mathematics or statistics                                                          1849\n",
       "Web development or web design                                                      1789\n",
       "A business discipline (such as accounting, finance, marketing, etc.)               1375\n",
       "A humanities discipline (such as literature, history, philosophy, etc.)            1007\n",
       "A social science (such as anthropology, psychology, political science, etc.)        933\n",
       "Fine arts or performing arts (such as graphic design, music, studio art, etc.)      725\n",
       "I never declared a major                                                            453\n",
       "A health science (such as nursing, pharmacy, radiology, etc.)                       252\n",
       "Name: UndergradMajor, dtype: int64"
      ]
     },
     "execution_count": 9,
     "metadata": {},
     "output_type": "execute_result"
    }
   ],
   "source": [
    "#lets explore the presented categories\n",
    "df_q2 = pd.read_csv('./survey_results_public.csv')\n",
    "schema = pd.read_csv('./survey_results_schema.csv')\n",
    "\n",
    "df.UndergradMajor.value_counts()"
   ]
  },
  {
   "cell_type": "code",
   "execution_count": 10,
   "id": "ignored-angola",
   "metadata": {},
   "outputs": [],
   "source": [
    "#For the purpose of answering this question, we will split the df into 2 groups, \n",
    "#Group 1 - CS background:\n",
    "# 1.Computer science, computer engineering, or software engineering\n",
    "# 2.Information systems, information technology, or system administration\n",
    "# 3.Web development or web design\n",
    "\n",
    "#Group 2 - All other responders\n",
    "\n",
    "cs_ed = df_q2[df_q2['UndergradMajor'].isin(['Computer science, computer engineering, or software engineering',\n",
    "                              'Information systems, information technology, or system administration',\n",
    "                              'Web development or web design'])]\n",
    "\n",
    "non_cs_ed = df_q2.drop(cs_ed.index,axis=0)"
   ]
  },
  {
   "cell_type": "code",
   "execution_count": 11,
   "id": "economic-caution",
   "metadata": {},
   "outputs": [
    {
     "data": {
      "image/png": "[encoded data removed]",
      "text/plain": [
       "<Figure size 576x396 with 1 Axes>"
      ]
     },
     "metadata": {},
     "output_type": "display_data"
    }
   ],
   "source": [
    "#next, lets explore stack overflow visits\n",
    "#the desired column:\n",
    "#  SOVisitFreq\n",
    "\n",
    "df_q2['SOVisitFreq'].hist(xrot=45);\n",
    "\n"
   ]
  },
  {
   "cell_type": "code",
   "execution_count": 12,
   "id": "moving-service",
   "metadata": {},
   "outputs": [
    {
     "data": {
      "text/plain": [
       "Text(2, 0.2, 'Negative values show % change\\nwhen CS background < non-CS background\\nrespondants')"
      ]
     },
     "execution_count": 12,
     "metadata": {},
     "output_type": "execute_result"
    },
    {
     "data": {
      "image/png": "[encoded data removed]",
      "text/plain": [
       "<Figure size 576x396 with 1 Axes>"
      ]
     },
     "metadata": {},
     "output_type": "display_data"
    }
   ],
   "source": [
    "#now lets inspect the ratio between the two groups, CS background vs. non-CS background in terms of SO visiting frequency \n",
    "\n",
    "#lets group the number of responders to frequency reply groups\n",
    "cs = cs_ed['SOVisitFreq'].value_counts()\n",
    "non_cs = non_cs_ed['SOVisitFreq'].value_counts()\n",
    "\n",
    "# lets normalize per total number of respondents in each group, this will deal with the groups being un-even\n",
    "cs=cs/cs_ed.shape[0]\n",
    "non_cs=non_cs/non_cs_ed.shape[0]\n",
    "\n",
    "#find the ratio, positive values are attributed to the CS group, negative to the non CS group\n",
    "vals = cs/non_cs-1\n",
    "\n",
    "#plot the results\n",
    "g = sns.barplot(x=vals.index, y=vals.values, palette=\"vlag\");\n",
    "g.set_xticklabels(g.get_xticklabels(),rotation=45, horizontalalignment='right');\n",
    "g.set_title('Has CS Background vs. Visit Frequency to StackOverflow');\n",
    "g.text(0.2,-0.4,'Positive values show % change\\nwhen CS background > non-CS background\\nrespondants')\n",
    "g.text(2,0.2,'Negative values show % change\\nwhen CS background < non-CS background\\nrespondants')"
   ]
  },
  {
   "cell_type": "markdown",
   "id": "established-jacket",
   "metadata": {},
   "source": [
    "## Question 3\n",
    "What are the biggest contributers affecting overtime working, is there a contributer that stands out and should be considered by employers?"
   ]
  },
  {
   "cell_type": "code",
   "execution_count": 115,
   "id": "driven-roulette",
   "metadata": {},
   "outputs": [],
   "source": [
    "df_q3 = pd.read_csv('./survey_results_public.csv')\n",
    "schema = pd.read_csv('./survey_results_schema.csv')\n",
    "\n",
    "#NEWOvertime"
   ]
  },
  {
   "cell_type": "code",
   "execution_count": 14,
   "id": "executed-value",
   "metadata": {},
   "outputs": [],
   "source": [
    "#lets build a ridge classifier to predict respondents overtime response, then we will inspect the  "
   ]
  },
  {
   "cell_type": "code",
   "execution_count": 116,
   "id": "accepting-croatia",
   "metadata": {},
   "outputs": [],
   "source": [
    "import numpy as np\n",
    "import pandas as pd\n",
    "import matplotlib.pyplot as plt\n",
    "from sklearn.linear_model import RidgeClassifier\n",
    "from sklearn.tree import DecisionTreeClassifier\n",
    "from sklearn.model_selection import train_test_split\n",
    "from sklearn.metrics import r2_score, mean_squared_error\n",
    "from sklearn import preprocessing\n"
   ]
  },
  {
   "cell_type": "code",
   "execution_count": 118,
   "id": "consistent-vacation",
   "metadata": {},
   "outputs": [],
   "source": [
    "target='NEWOvertime'\n",
    "\n",
    "#Extract all categorial columns\n",
    "cat_cols = df_q3.columns[df_q3.dtypes==object]\n",
    "cat_cols = cat_cols.drop(target)\n",
    "\n",
    "#Remove rows corresponding to missing target values\n",
    "df_q3 = df_q3.dropna(subset=['NEWOvertime'],axis=0)\n",
    "y = le.fit_transform(df_q3[target])\n",
    "X = df_q3.drop(target,axis=1)\n",
    "X = X.drop('Respondent',axis=1)\n",
    "\n",
    "\n",
    "# Add dummy variables for all cat columns\n",
    "le = preprocessing.LabelEncoder()\n",
    "for col in cat_cols:\n",
    "\n",
    "    X[col] = le.fit_transform(X[col])\n",
    "    \n",
    "#     dummies = pd.get_dummies(X[col], prefix=col, drop_first=True, dummy_na=False)\n",
    "#     X = pd.concat([X.drop(col,axis=1), le_column], axis=1)\n",
    "\n"
   ]
  },
  {
   "cell_type": "code",
   "execution_count": 119,
   "id": "verbal-throw",
   "metadata": {},
   "outputs": [],
   "source": [
    "#remove irrelevant cols\n",
    "# X = X.drop(['Respondent'],axis=1)\n",
    "\n",
    "#impute numeric columns with mean\n",
    "X=X.apply(lambda col: col.fillna(col.mean()),axis=0) "
   ]
  },
  {
   "cell_type": "code",
   "execution_count": 72,
   "id": "coordinated-advance",
   "metadata": {},
   "outputs": [
    {
     "data": {
      "text/html": [
       "<div>\n",
       "<style scoped>\n",
       "    .dataframe tbody tr th:only-of-type {\n",
       "        vertical-align: middle;\n",
       "    }\n",
       "\n",
       "    .dataframe tbody tr th {\n",
       "        vertical-align: top;\n",
       "    }\n",
       "\n",
       "    .dataframe thead th {\n",
       "        text-align: right;\n",
       "    }\n",
       "</style>\n",
       "<table border=\"1\" class=\"dataframe\">\n",
       "  <thead>\n",
       "    <tr style=\"text-align: right;\">\n",
       "      <th></th>\n",
       "      <th>MainBranch</th>\n",
       "      <th>Hobbyist</th>\n",
       "      <th>Age</th>\n",
       "      <th>Age1stCode</th>\n",
       "      <th>CompFreq</th>\n",
       "      <th>CompTotal</th>\n",
       "      <th>ConvertedComp</th>\n",
       "      <th>Country</th>\n",
       "      <th>CurrencyDesc</th>\n",
       "      <th>CurrencySymbol</th>\n",
       "      <th>...</th>\n",
       "      <th>SurveyEase</th>\n",
       "      <th>SurveyLength</th>\n",
       "      <th>Trans</th>\n",
       "      <th>UndergradMajor</th>\n",
       "      <th>WebframeDesireNextYear</th>\n",
       "      <th>WebframeWorkedWith</th>\n",
       "      <th>WelcomeChange</th>\n",
       "      <th>WorkWeekHrs</th>\n",
       "      <th>YearsCode</th>\n",
       "      <th>YearsCodePro</th>\n",
       "    </tr>\n",
       "  </thead>\n",
       "  <tbody>\n",
       "    <tr>\n",
       "      <th>0</th>\n",
       "      <td>0</td>\n",
       "      <td>1</td>\n",
       "      <td>32.179222</td>\n",
       "      <td>3</td>\n",
       "      <td>0</td>\n",
       "      <td>3.231195e+242</td>\n",
       "      <td>103692.836524</td>\n",
       "      <td>55</td>\n",
       "      <td>42</td>\n",
       "      <td>39</td>\n",
       "      <td>...</td>\n",
       "      <td>2</td>\n",
       "      <td>0</td>\n",
       "      <td>0</td>\n",
       "      <td>6</td>\n",
       "      <td>1</td>\n",
       "      <td>126</td>\n",
       "      <td>2</td>\n",
       "      <td>50.000000</td>\n",
       "      <td>29</td>\n",
       "      <td>19</td>\n",
       "    </tr>\n",
       "    <tr>\n",
       "      <th>3</th>\n",
       "      <td>0</td>\n",
       "      <td>1</td>\n",
       "      <td>25.000000</td>\n",
       "      <td>8</td>\n",
       "      <td>3</td>\n",
       "      <td>3.231195e+242</td>\n",
       "      <td>103692.836524</td>\n",
       "      <td>1</td>\n",
       "      <td>1</td>\n",
       "      <td>2</td>\n",
       "      <td>...</td>\n",
       "      <td>3</td>\n",
       "      <td>3</td>\n",
       "      <td>0</td>\n",
       "      <td>6</td>\n",
       "      <td>3087</td>\n",
       "      <td>3274</td>\n",
       "      <td>4</td>\n",
       "      <td>40.000000</td>\n",
       "      <td>47</td>\n",
       "      <td>33</td>\n",
       "    </tr>\n",
       "    <tr>\n",
       "      <th>5</th>\n",
       "      <td>0</td>\n",
       "      <td>0</td>\n",
       "      <td>32.179222</td>\n",
       "      <td>4</td>\n",
       "      <td>3</td>\n",
       "      <td>3.231195e+242</td>\n",
       "      <td>103692.836524</td>\n",
       "      <td>55</td>\n",
       "      <td>42</td>\n",
       "      <td>39</td>\n",
       "      <td>...</td>\n",
       "      <td>2</td>\n",
       "      <td>0</td>\n",
       "      <td>2</td>\n",
       "      <td>12</td>\n",
       "      <td>3020</td>\n",
       "      <td>3274</td>\n",
       "      <td>6</td>\n",
       "      <td>40.792555</td>\n",
       "      <td>46</td>\n",
       "      <td>33</td>\n",
       "    </tr>\n",
       "    <tr>\n",
       "      <th>6</th>\n",
       "      <td>0</td>\n",
       "      <td>1</td>\n",
       "      <td>32.179222</td>\n",
       "      <td>8</td>\n",
       "      <td>0</td>\n",
       "      <td>3.231195e+242</td>\n",
       "      <td>103692.836524</td>\n",
       "      <td>67</td>\n",
       "      <td>128</td>\n",
       "      <td>123</td>\n",
       "      <td>...</td>\n",
       "      <td>3</td>\n",
       "      <td>3</td>\n",
       "      <td>2</td>\n",
       "      <td>6</td>\n",
       "      <td>3087</td>\n",
       "      <td>3274</td>\n",
       "      <td>1</td>\n",
       "      <td>40.792555</td>\n",
       "      <td>46</td>\n",
       "      <td>33</td>\n",
       "    </tr>\n",
       "    <tr>\n",
       "      <th>7</th>\n",
       "      <td>0</td>\n",
       "      <td>1</td>\n",
       "      <td>36.000000</td>\n",
       "      <td>2</td>\n",
       "      <td>2</td>\n",
       "      <td>1.160000e+05</td>\n",
       "      <td>116000.000000</td>\n",
       "      <td>162</td>\n",
       "      <td>128</td>\n",
       "      <td>123</td>\n",
       "      <td>...</td>\n",
       "      <td>1</td>\n",
       "      <td>0</td>\n",
       "      <td>0</td>\n",
       "      <td>6</td>\n",
       "      <td>2608</td>\n",
       "      <td>3088</td>\n",
       "      <td>2</td>\n",
       "      <td>39.000000</td>\n",
       "      <td>8</td>\n",
       "      <td>4</td>\n",
       "    </tr>\n",
       "  </tbody>\n",
       "</table>\n",
       "<p>5 rows × 59 columns</p>\n",
       "</div>"
      ],
      "text/plain": [
       "   MainBranch  Hobbyist        Age  Age1stCode  CompFreq      CompTotal  \\\n",
       "0           0         1  32.179222           3         0  3.231195e+242   \n",
       "3           0         1  25.000000           8         3  3.231195e+242   \n",
       "5           0         0  32.179222           4         3  3.231195e+242   \n",
       "6           0         1  32.179222           8         0  3.231195e+242   \n",
       "7           0         1  36.000000           2         2   1.160000e+05   \n",
       "\n",
       "   ConvertedComp  Country  CurrencyDesc  CurrencySymbol  ...  SurveyEase  \\\n",
       "0  103692.836524       55            42              39  ...           2   \n",
       "3  103692.836524        1             1               2  ...           3   \n",
       "5  103692.836524       55            42              39  ...           2   \n",
       "6  103692.836524       67           128             123  ...           3   \n",
       "7  116000.000000      162           128             123  ...           1   \n",
       "\n",
       "   SurveyLength  Trans  UndergradMajor  WebframeDesireNextYear  \\\n",
       "0             0      0               6                       1   \n",
       "3             3      0               6                    3087   \n",
       "5             0      2              12                    3020   \n",
       "6             3      2               6                    3087   \n",
       "7             0      0               6                    2608   \n",
       "\n",
       "   WebframeWorkedWith  WelcomeChange  WorkWeekHrs  YearsCode  YearsCodePro  \n",
       "0                 126              2    50.000000         29            19  \n",
       "3                3274              4    40.000000         47            33  \n",
       "5                3274              6    40.792555         46            33  \n",
       "6                3274              1    40.792555         46            33  \n",
       "7                3088              2    39.000000          8             4  \n",
       "\n",
       "[5 rows x 59 columns]"
      ]
     },
     "execution_count": 72,
     "metadata": {},
     "output_type": "execute_result"
    }
   ],
   "source": [
    "X.head()"
   ]
  },
  {
   "cell_type": "code",
   "execution_count": 120,
   "id": "knowing-zealand",
   "metadata": {},
   "outputs": [],
   "source": [
    "#Split into train and test\n",
    "X_train, X_test, y_train, y_test = train_test_split(X, y, test_size = .30, random_state=42) \n"
   ]
  },
  {
   "cell_type": "code",
   "execution_count": 154,
   "id": "prescribed-season",
   "metadata": {},
   "outputs": [
    {
     "data": {
      "text/plain": [
       "[array(['MainBranch', 'JobSeek', 'Employment', 'NEWOnboardGood',\n",
       "        'NEWOtherComms'], dtype=object),\n",
       " array(['Employment', 'MainBranch', 'JobSeek', 'NEWDevOps',\n",
       "        'NEWOnboardGood'], dtype=object),\n",
       " array(['MainBranch', 'Employment', 'NEWOnboardGood', 'Hobbyist',\n",
       "        'NEWDevOps'], dtype=object),\n",
       " array(['MainBranch', 'Employment', 'Hobbyist', 'NEWOnboardGood',\n",
       "        'NEWOtherComms'], dtype=object),\n",
       " array(['Employment', 'MainBranch', 'JobSeek', 'NEWOffTopic', 'Hobbyist'],\n",
       "       dtype=object)]"
      ]
     },
     "execution_count": 154,
     "metadata": {},
     "output_type": "execute_result"
    }
   ],
   "source": [
    "model1 = RidgeClassifier(normalize=True) # Instantiate\n",
    "\n",
    "model1.fit(X_train, y_train) #Fit\n",
    "# model2.fit(X_train, y_train)\n",
    "# #Predict and score the model\n",
    "y_test_preds = lm_model.predict(X_test) \n",
    "\n",
    "\n",
    "\n",
    "cols=[]\n",
    "coefs_df = pd.DataFrame()\n",
    "coefs_df['est_int'] = X_train.columns\n",
    "for i in range(5):\n",
    "    coefs_df['coefs'+str(i)] = np.abs(model1.coef_[:][i])\n",
    "#     coefs_df['abs_coefs'] = np.abs(model1.coef_)\n",
    "#     coefs_df = coefs_df.sort_values('abs_coefs', ascending=False)\n",
    "\n",
    "# df.sort_values(by=['col1'])\n",
    "for i in range(5):\n",
    "    cols.append(coefs_df.sort_values(by=['coefs'+str(i)], ascending=False)['est_int'][0:5].values)\n",
    "                \n",
    "cols                \n",
    "                "
   ]
  },
  {
   "cell_type": "code",
   "execution_count": null,
   "id": "facial-ordinance",
   "metadata": {},
   "outputs": [],
   "source": []
  },
  {
   "cell_type": "code",
   "execution_count": null,
   "id": "backed-democracy",
   "metadata": {},
   "outputs": [],
   "source": []
  },
  {
   "cell_type": "code",
   "execution_count": null,
   "id": "reflected-green",
   "metadata": {},
   "outputs": [],
   "source": [
    "# def coef_weights(coefficients, X_train):\n",
    "#     '''\n",
    "#     INPUT:\n",
    "#     coefficients - the coefficients of the linear model \n",
    "#     X_train - the training data, so the column names can be used\n",
    "#     OUTPUT:\n",
    "#     coefs_df - a dataframe holding the coefficient, estimate, and abs(estimate)\n",
    "    \n",
    "#     Provides a dataframe that can be used to understand the most influential coefficients\n",
    "#     in a linear model by providing the coefficient estimates along with the name of the \n",
    "#     variable attached to the coefficient.\n",
    "#     '''\n",
    "#     coefs_df = pd.DataFrame()\n",
    "#     coefs_df['est_int'] = X_train.columns\n",
    "#     coefs_df['coefs'] = lm_model.coef_\n",
    "#     coefs_df['abs_coefs'] = np.abs(lm_model.coef_)\n",
    "#     coefs_df = coefs_df.sort_values('abs_coefs', ascending=False)\n",
    "#     return coefs_df\n",
    "\n",
    "# #Use the function\n",
    "# coef_df = coef_weights(lm_model.coef_, X_train)\n",
    "\n",
    "# #A quick look at the top results\n",
    "# coef_df.head(20)"
   ]
  },
  {
   "cell_type": "code",
   "execution_count": null,
   "id": "colonial-military",
   "metadata": {},
   "outputs": [],
   "source": [
    "# WorkWeekHrs\n",
    "# Country\n",
    "\n"
   ]
  }
 ],
 "metadata": {
  "kernelspec": {
   "display_name": "Python 3",
   "language": "python",
   "name": "python3"
  },
  "language_info": {
   "codemirror_mode": {
    "name": "ipython",
    "version": 3
   },
   "file_extension": ".py",
   "mimetype": "text/x-python",
   "name": "python",
   "nbconvert_exporter": "python",
   "pygments_lexer": "ipython3",
   "version": "3.7.6"
  }
 },
 "nbformat": 4,
 "nbformat_minor": 5
}
